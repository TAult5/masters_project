{
 "cells": [
  {
   "cell_type": "code",
   "execution_count": null,
   "id": "2f9a9e13-0388-4555-9ca9-580990b431ce",
   "metadata": {},
   "outputs": [],
   "source": [
    "from ultralytics import YOLO\n",
    "import os\n",
    "\n",
    "model = YOLO(\"yolov8n.pt\")\n",
    "model2 = YOLO(\"yolo11n.pt\")"
   ]
  },
  {
   "cell_type": "code",
   "execution_count": null,
   "id": "6ed7a176-ebd4-44fb-ac2a-8950e2f48057",
   "metadata": {},
   "outputs": [],
   "source": [
    "file_path_data = \"S:/data_tyler/data.yaml\"\n",
    "\n",
    "if os.path.exists(file_path_data):\n",
    "    print(f\"File exists\")\n",
    "else:\n",
    "    print(f\"File does not exist\")"
   ]
  },
  {
   "cell_type": "code",
   "execution_count": null,
   "id": "d09fd730-1c04-4c8f-9435-a013a3bc2f86",
   "metadata": {},
   "outputs": [],
   "source": [
    "import torch\n",
    "device = torch.device(\"cuda\" if torch.cuda.is_available() else \"cpu\")\n",
    "print(torch.cuda.is_available())\n",
    "model = model.to(device)\n",
    "model2 = model2.to(device)\n",
    "print(torch.cuda.get_device_name(0))\n",
    "print(next(model.parameters()).device)"
   ]
  },
  {
   "cell_type": "code",
   "execution_count": null,
   "id": "0f72b8e3-d7bf-433d-a39c-2d40d8287fbe",
   "metadata": {},
   "outputs": [],
   "source": [
    "model.tune(\n",
    "    data=file_path_data,\n",
    "    epochs=30,\n",
    "    iterations=100,\n",
    "    plots=False,\n",
    "    save=False,\n",
    "    val=False,\n",
    "    device = 'cuda',\n",
    ")"
   ]
  },
  {
   "cell_type": "code",
   "execution_count": null,
   "id": "e6225338-4803-420c-bfbe-23cce6a28237",
   "metadata": {},
   "outputs": [],
   "source": [
    "model2.tune(data=file_path_data, iterations=50)"
   ]
  }
 ],
 "metadata": {
  "kernelspec": {
   "display_name": "Python 3 (ipykernel)",
   "language": "python",
   "name": "python3"
  },
  "language_info": {
   "codemirror_mode": {
    "name": "ipython",
    "version": 3
   },
   "file_extension": ".py",
   "mimetype": "text/x-python",
   "name": "python",
   "nbconvert_exporter": "python",
   "pygments_lexer": "ipython3",
   "version": "3.12.2"
  }
 },
 "nbformat": 4,
 "nbformat_minor": 5
}
