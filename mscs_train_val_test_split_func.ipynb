{
 "cells": [
  {
   "cell_type": "code",
   "execution_count": 1,
   "id": "5470ad22-e0a6-412a-9a72-515b3295fae2",
   "metadata": {},
   "outputs": [],
   "source": [
    "import os\n",
    "import random\n",
    "import shutil\n",
    "\n",
    "#Change these directories as you see fit. I typically run off S:/ drive for encrypted drive.\n",
    "image_dir = \"S:/main_images\"\n",
    "label_dir = \"S:/main_labels\"\n",
    "dest_dirs = {\n",
    "    'train': {'images': \"S:/data_tyler/dataset/train/images\", 'labels': \"S:/data_tyler/dataset/train/labels\"},\n",
    "    'val':   {'images': \"S:/data_tyler/dataset/val/images\",   'labels': \"S:/data_tyler/dataset/val/labels\"},\n",
    "    'test':  {'images': \"S:/data_tyler/dataset/test/images\",  'labels': \"S:/data_tyler/dataset/test/labels\"},\n",
    "}\n",
    "\n",
    "for split in dest_dirs:\n",
    "    os.makedirs(dest_dirs[split]['images'], exist_ok=True)\n",
    "    os.makedirs(dest_dirs[split]['labels'], exist_ok=True)\n",
    "\n",
    "images = [f for f in os.listdir(image_dir) if f.endswith(('.jpg', '.png'))]\n",
    "random.shuffle(images)\n",
    "\n",
    "# Split ratios. ADJUST AS NECESSARY\n",
    "train_ratio = 0.7\n",
    "val_ratio = 0.2  # test will be 0.1 by difference.\n",
    "train_count = int(train_ratio * len(images))\n",
    "val_count = int(val_ratio * len(images))\n",
    "\n",
    "splits = {\n",
    "    'train': images[:train_count],\n",
    "    'val':   images[train_count:train_count+val_count],\n",
    "    'test':  images[train_count+val_count:],\n",
    "}\n",
    "\n",
    "for split, img_list in splits.items():\n",
    "    for img in img_list:\n",
    "        # Copy image.\n",
    "        shutil.copy(os.path.join(image_dir, img),\n",
    "                    os.path.join(dest_dirs[split]['images'], img))\n",
    "        # Determine corresponding label file.\n",
    "        label_filename = os.path.splitext(img)[0] + '.txt'\n",
    "        label_path = os.path.join(label_dir, label_filename)\n",
    "        if os.path.exists(label_path):\n",
    "            shutil.copy(label_path,\n",
    "                        os.path.join(dest_dirs[split]['labels'], label_filename))\n"
   ]
  }
 ],
 "metadata": {
  "kernelspec": {
   "display_name": "Python 3 (ipykernel)",
   "language": "python",
   "name": "python3"
  },
  "language_info": {
   "codemirror_mode": {
    "name": "ipython",
    "version": 3
   },
   "file_extension": ".py",
   "mimetype": "text/x-python",
   "name": "python",
   "nbconvert_exporter": "python",
   "pygments_lexer": "ipython3",
   "version": "3.12.2"
  }
 },
 "nbformat": 4,
 "nbformat_minor": 5
}
