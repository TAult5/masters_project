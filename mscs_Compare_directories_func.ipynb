{
 "cells": [
  {
   "cell_type": "code",
   "execution_count": 2,
   "id": "79a1afd7-37b5-431e-bd8d-e2598f89033e",
   "metadata": {},
   "outputs": [
    {
     "name": "stdout",
     "output_type": "stream",
     "text": [
      "All image files have corresponding labels.\n",
      "\n",
      "All label files have corresponding images.\n"
     ]
    }
   ],
   "source": [
    "import os\n",
    "\n",
    "def get_basenames(directory):\n",
    "    \"\"\"\n",
    "    Returns a set of base names (filenames without extensions) for all files in the given directory.\n",
    "    \"\"\"\n",
    "    return {\n",
    "        os.path.splitext(filename)[0]\n",
    "        for filename in os.listdir(directory)\n",
    "        if os.path.isfile(os.path.join(directory, filename))\n",
    "    }\n",
    "\n",
    "def compare_directories(images_dir, labels_dir):\n",
    "    \"\"\"\n",
    "    Compares the base file names from the images and labels directories.\n",
    "    Prints names that do not have a corresponding match between the two.\n",
    "    \"\"\"\n",
    "    images_basenames = get_basenames(images_dir)\n",
    "    labels_basenames = get_basenames(labels_dir)\n",
    "\n",
    "    missing_in_labels = images_basenames - labels_basenames\n",
    "    missing_in_images = labels_basenames - images_basenames\n",
    "\n",
    "    if missing_in_labels:\n",
    "        print(\"Files in images directory but not in labels directory:\")\n",
    "        for name in sorted(missing_in_labels):\n",
    "            print(f\"  {name}\")\n",
    "    else:\n",
    "        print(\"All image files have corresponding labels.\")\n",
    "\n",
    "    if missing_in_images:\n",
    "        print(\"\\nFiles in labels directory but not in images directory:\")\n",
    "        for name in sorted(missing_in_images):\n",
    "            print(f\"  {name}\")\n",
    "    else:\n",
    "        print(\"\\nAll label files have corresponding images.\")\n",
    "\n",
    "#EDIT images_directory and labels_directory (below) to appropriate paths\n",
    "if __name__ == '__main__':\n",
    "    images_directory = \"S:/main_images\"\n",
    "    labels_directory = \"S:/main_labels\"\n",
    "    \n",
    "    compare_directories(images_directory, labels_directory)\n"
   ]
  }
 ],
 "metadata": {
  "kernelspec": {
   "display_name": "Python 3 (ipykernel)",
   "language": "python",
   "name": "python3"
  },
  "language_info": {
   "codemirror_mode": {
    "name": "ipython",
    "version": 3
   },
   "file_extension": ".py",
   "mimetype": "text/x-python",
   "name": "python",
   "nbconvert_exporter": "python",
   "pygments_lexer": "ipython3",
   "version": "3.12.2"
  }
 },
 "nbformat": 4,
 "nbformat_minor": 5
}
