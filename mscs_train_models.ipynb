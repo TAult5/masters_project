{
 "cells": [
  {
   "cell_type": "code",
   "execution_count": null,
   "id": "5bdefe5b-3364-4bca-b22c-6a0ff52e402a",
   "metadata": {},
   "outputs": [],
   "source": [
    "from ultralytics import YOLO\n",
    "import os\n",
    "\n",
    "model = YOLO(\"yolov8n.pt\")\n",
    "model2 = YOLO(\"yolo11n.pt\")"
   ]
  },
  {
   "cell_type": "code",
   "execution_count": null,
   "id": "c4473691-9b6a-472d-a312-c811b0da2ac4",
   "metadata": {},
   "outputs": [],
   "source": [
    "#This cell allows the model hyperparameters to be overwritten with the \"best_hyperparameters\" file\n",
    "best_hype8 = \"S:/data_tyler/best_hyperparameters_v8.yaml\"\n",
    "import yaml\n",
    "if os.path.exists(best_hype8):\n",
    "    print(f\"Valid file\")\n",
    "else:\n",
    "    print(f\"INVALID FILE PATH\")\n",
    "\n",
    "with open(\"S:/data_tyler/best_hyperparameters_v8.yaml\") as f:\n",
    "    hyp = yaml.safe_load(f)\n",
    "\n",
    "model.overrides.update(hyp)"
   ]
  },
  {
   "cell_type": "code",
   "execution_count": null,
   "id": "b0063455-8b5c-4357-8b3c-1ac67be68e04",
   "metadata": {},
   "outputs": [],
   "source": [
    "#This cell is to just test and ensure that the hyperparamters have been properly loaded\n",
    "#Currently, initial lr should be 0.00966, momentum should be 0.86414\n",
    "#Hyperparameters are for v8 model\n",
    "print(\"Initial learning rate:\", model.overrides.get('lr0'))\n",
    "print(\"Momentum:\", model.overrides.get('momentum'))"
   ]
  },
  {
   "cell_type": "code",
   "execution_count": null,
   "id": "6ce7c7e3-9ce5-46b4-a912-a9812dac4a89",
   "metadata": {},
   "outputs": [],
   "source": [
    "model.train(data=file_path_data, epochs=100, imgsz=640, patience=20)"
   ]
  },
  {
   "cell_type": "code",
   "execution_count": null,
   "id": "4c70ad35-c351-4b0f-bd4c-99fc6e6b5f23",
   "metadata": {},
   "outputs": [],
   "source": [
    "#This cell allows the model hyperparameters to be overwritten with the \"best_hyperparameters\" file\n",
    "best_hype = \"S:/data_tyler/best_hyperparameters_v11.yaml\"\n",
    "import yaml\n",
    "if os.path.exists(best_hype):\n",
    "    print(f\"Valid file\")\n",
    "else:\n",
    "    print(f\"INVALID FILE PATH\")\n",
    "\n",
    "with open(\"S:/data_tyler/best_hyperparameters_v11.yaml\") as f:\n",
    "    hyp = yaml.safe_load(f)\n",
    "\n",
    "model2.overrides.update(hyp)"
   ]
  },
  {
   "cell_type": "code",
   "execution_count": null,
   "id": "e06cb37d-96b3-44e3-bfc2-a59a88ff73e0",
   "metadata": {},
   "outputs": [],
   "source": [
    "#This cell is to just test and ensure that the hyperparamters have been properly loaded\n",
    "#Currently, initial lr should be 0.00852, momentum should be 0.96473\n",
    "#Hyperparameters are for v11 model\n",
    "print(\"Initial learning rate:\", model2.overrides.get('lr0'))\n",
    "print(\"Momentum:\", model2.overrides.get('momentum'))"
   ]
  },
  {
   "cell_type": "code",
   "execution_count": null,
   "id": "13473243-8fe7-4f21-ac95-99fd600478f4",
   "metadata": {},
   "outputs": [],
   "source": [
    "model2.train(data=file_path_data, epochs=300, imgsz=640, patience=25) #patience set to 25; stops if no improvement after 10 epochs"
   ]
  }
 ],
 "metadata": {
  "kernelspec": {
   "display_name": "Python 3 (ipykernel)",
   "language": "python",
   "name": "python3"
  },
  "language_info": {
   "codemirror_mode": {
    "name": "ipython",
    "version": 3
   },
   "file_extension": ".py",
   "mimetype": "text/x-python",
   "name": "python",
   "nbconvert_exporter": "python",
   "pygments_lexer": "ipython3",
   "version": "3.12.2"
  }
 },
 "nbformat": 4,
 "nbformat_minor": 5
}
