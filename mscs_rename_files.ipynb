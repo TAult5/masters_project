{
 "cells": [
  {
   "cell_type": "code",
   "execution_count": null,
   "id": "8e19c5ca-5dcd-4231-be5a-4a3f2016a375",
   "metadata": {},
   "outputs": [],
   "source": [
    "import os\n",
    "\n",
    "def rename_files(images_dir, labels_dir, new_prefix='image'):\n",
    "    image_files = sorted([\n",
    "        f for f in os.listdir(images_dir) \n",
    "        if os.path.isfile(os.path.join(images_dir, f))\n",
    "    ])\n",
    "    label_files = sorted([\n",
    "        f for f in os.listdir(labels_dir) \n",
    "        if os.path.isfile(os.path.join(labels_dir, f))\n",
    "    ])\n",
    "\n",
    "    if len(image_files) != len(label_files):\n",
    "        print(\"Warning: The number of image and label files do not match!\")\n",
    "    \n",
    "    total = min(len(image_files), len(label_files))\n",
    "\n",
    "    print(f\"Renaming {total} paired files...\")\n",
    "\n",
    "    # Rename image files\n",
    "    for idx in range(total):\n",
    "        old_name = image_files[idx]\n",
    "        src_path = os.path.join(images_dir, old_name)\n",
    "        # Preserve the original file extension\n",
    "        ext = os.path.splitext(old_name)[1]\n",
    "        new_name = f\"{new_prefix}_{idx+1:06d}{ext}\"\n",
    "        dst_path = os.path.join(images_dir, new_name)\n",
    "        os.rename(src_path, dst_path)\n",
    "        print(f\"Image renamed: {old_name} -> {new_name}\")\n",
    "\n",
    "    # Rename label files\n",
    "    for idx in range(total):\n",
    "        old_name = label_files[idx]\n",
    "        src_path = os.path.join(labels_dir, old_name)\n",
    "        # Preserve the original file extension\n",
    "        ext = os.path.splitext(old_name)[1]\n",
    "        new_name = f\"{new_prefix}_{idx+1:06d}{ext}\"\n",
    "        dst_path = os.path.join(labels_dir, new_name)\n",
    "        os.rename(src_path, dst_path)\n",
    "        print(f\"Label renamed: {old_name} -> {new_name}\")\n",
    "\n",
    "#EDIT images_directory and labels_directory (below) to appropriate paths\n",
    "if __name__ == '__main__':\n",
    "    images_directory = \"S:/main_images\"\n",
    "    labels_directory = \"S:/main_labels\"\n",
    "    \n",
    "    rename_files(images_directory, labels_directory)\n"
   ]
  }
 ],
 "metadata": {
  "kernelspec": {
   "display_name": "Python 3 (ipykernel)",
   "language": "python",
   "name": "python3"
  },
  "language_info": {
   "codemirror_mode": {
    "name": "ipython",
    "version": 3
   },
   "file_extension": ".py",
   "mimetype": "text/x-python",
   "name": "python",
   "nbconvert_exporter": "python",
   "pygments_lexer": "ipython3",
   "version": "3.12.2"
  }
 },
 "nbformat": 4,
 "nbformat_minor": 5
}
