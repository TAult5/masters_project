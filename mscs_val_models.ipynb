{
 "cells": [
  {
   "cell_type": "code",
   "execution_count": null,
   "id": "fbe570cf-63e7-4f0a-a4e5-54545439de0a",
   "metadata": {},
   "outputs": [],
   "source": [
    "from ultralytics import YOLO\n",
    "import os\n",
    "\n",
    "model = YOLO(\"S:/v8_training/weights/best.pt\")\n",
    "model2 = YOLO(\"S:/v11_training/weights/best.pt\")"
   ]
  },
  {
   "cell_type": "code",
   "execution_count": null,
   "id": "8274843f-4173-4937-a2b4-8c19f64e3fa2",
   "metadata": {},
   "outputs": [],
   "source": [
    "file_path_data = \"S:/data_tyler/data.yaml\"\n",
    "\n",
    "if os.path.exists(file_path_data):\n",
    "    print(f\"File exists\")\n",
    "else:\n",
    "    print(f\"File does not exist\")"
   ]
  },
  {
   "cell_type": "code",
   "execution_count": null,
   "id": "69c88c15-bb19-4307-a119-86fefa07d4e7",
   "metadata": {},
   "outputs": [],
   "source": [
    "metrics = model.val()\n",
    "metrics.box.map\n",
    "metrics.box.map50\n",
    "metrics.box.map75\n",
    "metrics.box.maps"
   ]
  },
  {
   "cell_type": "code",
   "execution_count": null,
   "id": "05777f36-3679-407f-80b1-a7e70caf3562",
   "metadata": {},
   "outputs": [],
   "source": [
    "metrics = model2.val()\n",
    "metrics.box.map\n",
    "metrics.box.map50\n",
    "metrics.box.map75\n",
    "metrics.box.maps"
   ]
  }
 ],
 "metadata": {
  "kernelspec": {
   "display_name": "Python 3 (ipykernel)",
   "language": "python",
   "name": "python3"
  },
  "language_info": {
   "codemirror_mode": {
    "name": "ipython",
    "version": 3
   },
   "file_extension": ".py",
   "mimetype": "text/x-python",
   "name": "python",
   "nbconvert_exporter": "python",
   "pygments_lexer": "ipython3",
   "version": "3.12.2"
  }
 },
 "nbformat": 4,
 "nbformat_minor": 5
}
