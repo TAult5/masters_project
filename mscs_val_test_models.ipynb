{
 "cells": [
  {
   "cell_type": "code",
   "execution_count": 1,
   "id": "fbe570cf-63e7-4f0a-a4e5-54545439de0a",
   "metadata": {},
   "outputs": [],
   "source": [
    "from ultralytics import YOLO\n",
    "import os\n",
    "\n",
    "model = YOLO(\"S:/v8_training/weights/best.pt\")\n",
    "model2 = YOLO(\"S:/v11_training/weights/best.pt\")"
   ]
  },
  {
   "cell_type": "code",
   "execution_count": null,
   "id": "8274843f-4173-4937-a2b4-8c19f64e3fa2",
   "metadata": {},
   "outputs": [],
   "source": [
    "file_path_data = \"S:/data_tyler/data.yaml\"\n",
    "\n",
    "if os.path.exists(file_path_data):\n",
    "    print(f\"File exists\")\n",
    "else:\n",
    "    print(f\"File does not exist\")"
   ]
  },
  {
   "cell_type": "code",
   "execution_count": null,
   "id": "69c88c15-bb19-4307-a119-86fefa07d4e7",
   "metadata": {},
   "outputs": [],
   "source": [
    "metrics = model.val()\n",
    "metrics.box.map\n",
    "metrics.box.map50\n",
    "metrics.box.map75\n",
    "metrics.box.maps"
   ]
  },
  {
   "cell_type": "code",
   "execution_count": null,
   "id": "05777f36-3679-407f-80b1-a7e70caf3562",
   "metadata": {},
   "outputs": [],
   "source": [
    "metrics = model2.val()\n",
    "metrics.box.map\n",
    "metrics.box.map50\n",
    "metrics.box.map75\n",
    "metrics.box.maps"
   ]
  },
  {
   "cell_type": "code",
   "execution_count": 4,
   "id": "a7ec6fb0-3fbc-4bc0-8219-af066e4c548f",
   "metadata": {},
   "outputs": [],
   "source": [
    "test_path = \"S:/Quick_Test/images\""
   ]
  },
  {
   "cell_type": "code",
   "execution_count": 9,
   "id": "195fcf17-2f2e-40d0-9797-ab4b2423ff97",
   "metadata": {},
   "outputs": [
    {
     "name": "stdout",
     "output_type": "stream",
     "text": [
      "\n",
      "0: 480x640 1 trauma_lower_ext, 1 severe_hemorrhage, 17.6ms\n",
      "1: 480x640 (no detections), 17.6ms\n",
      "2: 480x640 1 trauma_lower_ext, 1 severe_hemorrhage, 17.6ms\n",
      "3: 480x640 (no detections), 17.6ms\n",
      "4: 480x640 (no detections), 17.6ms\n",
      "5: 480x640 1 trauma_upper_ext, 17.6ms\n",
      "6: 480x640 (no detections), 17.6ms\n",
      "Speed: 3.6ms preprocess, 17.6ms inference, 15.0ms postprocess per image at shape (1, 3, 480, 640)\n"
     ]
    }
   ],
   "source": [
    "results = model([\"S:/Quick_Test/images/IMG_6725.jpeg\", \"S:/Quick_Test/images/IMG_6726.jpeg\", \"S:/Quick_Test/images/IMG_6727.jpeg\", \"S:/Quick_Test/images/IMG_6728.jpeg\", \"S:/Quick_Test/images/IMG_6729.jpeg\", \"S:/Quick_Test/images/IMG_6731.jpeg\", \"S:/Quick_Test/images/IMG_6732.jpeg\"])  # return a list of Results objects\n",
    "\n",
    "# Process results list\n",
    "for result in results:\n",
    "    boxes = result.boxes  # Boxes object for bounding box outputs\n",
    "    masks = result.masks  # Masks object for segmentation masks outputs\n",
    "    keypoints = result.keypoints  # Keypoints object for pose outputs\n",
    "    probs = result.probs  # Probs object for classification outputs\n",
    "    obb = result.obb  # Oriented boxes object for OBB outputs\n",
    "    result.show()  # display to screen\n",
    "    result.save(filename=\"result.jpg\")  # save to disk"
   ]
  },
  {
   "cell_type": "code",
   "execution_count": null,
   "id": "fd1128a4-5453-4675-824d-7e40b09c5e4c",
   "metadata": {},
   "outputs": [],
   "source": []
  }
 ],
 "metadata": {
  "kernelspec": {
   "display_name": "Python 3 (ipykernel)",
   "language": "python",
   "name": "python3"
  },
  "language_info": {
   "codemirror_mode": {
    "name": "ipython",
    "version": 3
   },
   "file_extension": ".py",
   "mimetype": "text/x-python",
   "name": "python",
   "nbconvert_exporter": "python",
   "pygments_lexer": "ipython3",
   "version": "3.12.2"
  }
 },
 "nbformat": 4,
 "nbformat_minor": 5
}
